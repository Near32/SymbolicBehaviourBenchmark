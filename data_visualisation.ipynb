{
  "nbformat": 4,
  "nbformat_minor": 0,
  "metadata": {
    "colab": {
      "name": "data_visualisation.ipynb",
      "provenance": [],
      "collapsed_sections": [
        "W0DE4WSwvazA"
      ],
      "authorship_tag": "ABX9TyOazKqD6paGBxZWQkE2+iJG",
      "include_colab_link": true
    },
    "kernelspec": {
      "name": "python3",
      "display_name": "Python 3"
    },
    "language_info": {
      "name": "python"
    }
  },
  "cells": [
    {
      "cell_type": "markdown",
      "metadata": {
        "id": "view-in-github",
        "colab_type": "text"
      },
      "source": [
        "<a href=\"https://colab.research.google.com/github/Near32/SymbolicBehaviourBenchmark/blob/main/data_visualisation.ipynb\" target=\"_parent\"><img src=\"https://colab.research.google.com/assets/colab-badge.svg\" alt=\"Open In Colab\"/></a>"
      ]
    },
    {
      "cell_type": "markdown",
      "source": [
        "# Setup :"
      ],
      "metadata": {
        "id": "W0DE4WSwvazA"
      }
    },
    {
      "cell_type": "code",
      "execution_count": 1,
      "metadata": {
        "colab": {
          "base_uri": "https://localhost:8080/"
        },
        "id": "WIOVFgm6uudU",
        "outputId": "95d1454c-cc31-42bc-ff58-83f18812c626"
      },
      "outputs": [
        {
          "output_type": "stream",
          "name": "stdout",
          "text": [
            "Cloning into 'SymbolicBehaviourBenchmark'...\n",
            "remote: Enumerating objects: 193, done.\u001b[K\n",
            "remote: Counting objects: 100% (193/193), done.\u001b[K\n",
            "remote: Compressing objects: 100% (137/137), done.\u001b[K\n",
            "remote: Total 193 (delta 113), reused 122 (delta 50), pack-reused 0\u001b[K\n",
            "Receiving objects: 100% (193/193), 379.69 KiB | 4.69 MiB/s, done.\n",
            "Resolving deltas: 100% (113/113), done.\n"
          ]
        }
      ],
      "source": [
        "!git clone https://github.com/Near32/SymbolicBehaviourBenchmark"
      ]
    },
    {
      "cell_type": "code",
      "source": [
        "!pip install -e SymbolicBehaviourBenchmark/"
      ],
      "metadata": {
        "colab": {
          "base_uri": "https://localhost:8080/"
        },
        "id": "3hPk8Jdfu2DP",
        "outputId": "40616bec-7d46-4c3c-db7b-f5a231bd13ef"
      },
      "execution_count": 2,
      "outputs": [
        {
          "output_type": "stream",
          "name": "stdout",
          "text": [
            "Looking in indexes: https://pypi.org/simple, https://us-python.pkg.dev/colab-wheels/public/simple/\n",
            "Obtaining file:///content/SymbolicBehaviourBenchmark\n",
            "Requirement already satisfied: numpy in /usr/local/lib/python3.7/dist-packages (from SymbolicBehaviourBenchmark==0.0.1) (1.21.6)\n",
            "Collecting gym==0.23.1\n",
            "  Downloading gym-0.23.1.tar.gz (626 kB)\n",
            "\u001b[K     |████████████████████████████████| 626 kB 5.1 MB/s \n",
            "\u001b[?25h  Installing build dependencies ... \u001b[?25l\u001b[?25hdone\n",
            "  Getting requirements to build wheel ... \u001b[?25l\u001b[?25hdone\n",
            "    Preparing wheel metadata ... \u001b[?25l\u001b[?25hdone\n",
            "Collecting gym-notices>=0.0.4\n",
            "  Downloading gym_notices-0.0.7-py3-none-any.whl (2.7 kB)\n",
            "Requirement already satisfied: importlib-metadata>=4.10.0 in /usr/local/lib/python3.7/dist-packages (from gym==0.23.1->SymbolicBehaviourBenchmark==0.0.1) (4.12.0)\n",
            "Requirement already satisfied: cloudpickle>=1.2.0 in /usr/local/lib/python3.7/dist-packages (from gym==0.23.1->SymbolicBehaviourBenchmark==0.0.1) (1.3.0)\n",
            "Requirement already satisfied: zipp>=0.5 in /usr/local/lib/python3.7/dist-packages (from importlib-metadata>=4.10.0->gym==0.23.1->SymbolicBehaviourBenchmark==0.0.1) (3.8.1)\n",
            "Requirement already satisfied: typing-extensions>=3.6.4 in /usr/local/lib/python3.7/dist-packages (from importlib-metadata>=4.10.0->gym==0.23.1->SymbolicBehaviourBenchmark==0.0.1) (4.1.1)\n",
            "Building wheels for collected packages: gym\n",
            "  Building wheel for gym (PEP 517) ... \u001b[?25l\u001b[?25hdone\n",
            "  Created wheel for gym: filename=gym-0.23.1-py3-none-any.whl size=701379 sha256=2dfab94b8db528d52380c000b8018019778183b576c1a2a6fcb0f7f861c7a373\n",
            "  Stored in directory: /root/.cache/pip/wheels/e3/33/04/6723848e46f0f1ebe794bb329b7c761c3329a0d7ffade99da7\n",
            "Successfully built gym\n",
            "Installing collected packages: gym-notices, gym, SymbolicBehaviourBenchmark\n",
            "  Attempting uninstall: gym\n",
            "    Found existing installation: gym 0.17.3\n",
            "    Uninstalling gym-0.17.3:\n",
            "      Successfully uninstalled gym-0.17.3\n",
            "  Running setup.py develop for SymbolicBehaviourBenchmark\n",
            "Successfully installed SymbolicBehaviourBenchmark-0.0.1 gym-0.23.1 gym-notices-0.0.7\n"
          ]
        }
      ]
    },
    {
      "cell_type": "code",
      "source": [
        "!pip install seaborn pandas matplotlib"
      ],
      "metadata": {
        "colab": {
          "base_uri": "https://localhost:8080/"
        },
        "id": "KgxbDyKZu7If",
        "outputId": "adff2515-9b86-4d4e-cd66-ef30ea315d20"
      },
      "execution_count": 5,
      "outputs": [
        {
          "output_type": "stream",
          "name": "stdout",
          "text": [
            "Looking in indexes: https://pypi.org/simple, https://us-python.pkg.dev/colab-wheels/public/simple/\n",
            "Requirement already satisfied: seaborn in /usr/local/lib/python3.7/dist-packages (0.11.2)\n",
            "Requirement already satisfied: pandas in /usr/local/lib/python3.7/dist-packages (1.3.5)\n",
            "Requirement already satisfied: matplotlib in /usr/local/lib/python3.7/dist-packages (3.2.2)\n",
            "Requirement already satisfied: scipy>=1.0 in /usr/local/lib/python3.7/dist-packages (from seaborn) (1.7.3)\n",
            "Requirement already satisfied: numpy>=1.15 in /usr/local/lib/python3.7/dist-packages (from seaborn) (1.21.6)\n",
            "Requirement already satisfied: pytz>=2017.3 in /usr/local/lib/python3.7/dist-packages (from pandas) (2022.1)\n",
            "Requirement already satisfied: python-dateutil>=2.7.3 in /usr/local/lib/python3.7/dist-packages (from pandas) (2.8.2)\n",
            "Requirement already satisfied: cycler>=0.10 in /usr/local/lib/python3.7/dist-packages (from matplotlib) (0.11.0)\n",
            "Requirement already satisfied: pyparsing!=2.0.4,!=2.1.2,!=2.1.6,>=2.0.1 in /usr/local/lib/python3.7/dist-packages (from matplotlib) (3.0.9)\n",
            "Requirement already satisfied: kiwisolver>=1.0.1 in /usr/local/lib/python3.7/dist-packages (from matplotlib) (1.4.4)\n",
            "Requirement already satisfied: typing-extensions in /usr/local/lib/python3.7/dist-packages (from kiwisolver>=1.0.1->matplotlib) (4.1.1)\n",
            "Requirement already satisfied: six>=1.5 in /usr/local/lib/python3.7/dist-packages (from python-dateutil>=2.7.3->pandas) (1.15.0)\n"
          ]
        }
      ]
    },
    {
      "cell_type": "markdown",
      "source": [
        "# Gathering Data:"
      ],
      "metadata": {
        "id": "6LU_kqC3vfST"
      }
    },
    {
      "cell_type": "code",
      "source": [
        "import pandas as pd\n",
        "import numpy as np \n",
        "\n",
        "import symbolic_behaviour_benchmark\n",
        "import gym\n",
        "\n",
        "env_name = \"SymbolicBehaviourBenchmark-ReceptiveConstructiveTestEnv-v0\"\n",
        "config = {\n",
        "    \"nbr_shots\":1,\n",
        "    \"nbr_communication_rounds\": 1,\n",
        "    \"vocab_size\": 6,\n",
        "    \"max_sentence_length\": 3,\n",
        "    \"descriptive\": True,\n",
        "    \"nbr_latents\": 3,\n",
        "    \"min_nbr_values_per_latent\": 2,\n",
        "    \"max_nbr_values_per_latent\": 3,\n",
        "    \"nbr_object_centric_samples\": 16,\n",
        "    \"nbr_distractors\": 0,\n",
        "    \"use_communication_channel_permutations\": True,\n",
        "    \"allow_listener_query\": False,\n",
        "    \"provide_listener_feedback\": True,\n",
        "    \"sampling_strategy\": \"component-focused-2shots\",\n",
        "}\n",
        "\n",
        "env = gym.make(env_name, **config)"
      ],
      "metadata": {
        "id": "wSPdFAPTve29"
      },
      "execution_count": 92,
      "outputs": []
    },
    {
      "cell_type": "code",
      "source": [
        "env.unwrapped.__dict__"
      ],
      "metadata": {
        "colab": {
          "base_uri": "https://localhost:8080/"
        },
        "id": "46CjNH2-vB9B",
        "outputId": "0fb21c59-77d6-4ffa-8cef-65cee7a7185c"
      },
      "execution_count": 93,
      "outputs": [
        {
          "output_type": "execute_result",
          "data": {
            "text/plain": [
              "{'_np_random': RandomNumberGenerator(PCG64) at 0x7FC9D22B4350,\n",
              " 'action_space': Dict(communication_channel:CommunicationChannel([7 7 7]), decision:Discrete(2)),\n",
              " 'allow_listener_query': False,\n",
              " 'communication_channel_action_space': CommunicationChannel([7 7 7]),\n",
              " 'communication_channel_observation_space': CommunicationChannel([7 7 7]),\n",
              " 'datasets': {'test': <symbolic_behaviour_benchmark.utils.dual_labeled_dataset.DualLabeledDataset at 0x7fc9c08dc3d0>,\n",
              "  'train': <symbolic_behaviour_benchmark.utils.dual_labeled_dataset.DualLabeledDataset at 0x7fc9c08dcd50>},\n",
              " 'decision_space': Discrete(2),\n",
              " 'feedback_provided': False,\n",
              " 'id_length': 10,\n",
              " 'listener_feedback': True,\n",
              " 'max_sentence_length': 3,\n",
              " 'mode': 'train',\n",
              " 'mode_id_observation_space': MultiBinary(2),\n",
              " 'nbr_communication_rounds': 1,\n",
              " 'nbr_distractors': 0,\n",
              " 'nbr_latents': 3,\n",
              " 'nbr_players': 2,\n",
              " 'nbr_shots': 1,\n",
              " 'observation_space': Dict(communication_channel:CommunicationChannel([7 7 7]), mode_id:MultiBinary(2), other_agent_id:Box(0, 255, (10,), uint8), previous_game_result:MultiBinary(2), previous_game_reward:Box(-10.0, 10.0, (1,), float32), role_id:MultiBinary(2), stimulus:Box(-1.0, 1.0, (3,), float32)),\n",
              " 'other_agent_id_observation_space': Box(0, 255, (10,), uint8),\n",
              " 'per_player_permutation': [<symbolic_behaviour_benchmark.envs.symbolic_behaviour_benchmark_receptive_constructive_test_env.CommunicationChannelPermutation at 0x7fc9c18b7910>,\n",
              "  <symbolic_behaviour_benchmark.envs.symbolic_behaviour_benchmark_receptive_constructive_test_env.CommunicationChannelPermutation at 0x7fc9c18b7f90>],\n",
              " 'previous_game_result_observation_space': MultiBinary(2),\n",
              " 'previous_game_reward_observation_space': Box(-10.0, 10.0, (1,), float32),\n",
              " 'rg_config': {'curriculum_distractors_window_size': 25,\n",
              "  'descriptive': True,\n",
              "  'descriptive_target_ratio': 0.5,\n",
              "  'distractor_sampling': 'uniform',\n",
              "  'graphtype': 'reinforce-like',\n",
              "  'gumbel_softmax_eps': 1e-06,\n",
              "  'max_sentence_length': 3,\n",
              "  'nbr_communication_rounds': 1,\n",
              "  'nbr_distractors': 0,\n",
              "  'nbr_experience_repetition': 1,\n",
              "  'nbr_latents': 3,\n",
              "  'nbr_stimulus': 1,\n",
              "  'object_centric': True,\n",
              "  'observability': 'full',\n",
              "  'tau0': 0.2,\n",
              "  'unsupervised_segmentation_factor': None,\n",
              "  'use_curriculum_nbr_distractors': False,\n",
              "  'vocab_size': 6},\n",
              " 'role_id_observation_space': MultiBinary(2),\n",
              " 'spec': EnvSpec(entry_point='symbolic_behaviour_benchmark.envs:generate_receptive_constructive_test_env', reward_threshold=None, nondeterministic=False, max_episode_steps=None, order_enforce=True, kwargs={'nbr_shots': 1, 'nbr_communication_rounds': 1, 'vocab_size': 6, 'max_sentence_length': 3, 'descriptive': True, 'nbr_latents': 3, 'min_nbr_values_per_latent': 2, 'max_nbr_values_per_latent': 3, 'nbr_object_centric_samples': 16, 'nbr_distractors': 0, 'use_communication_channel_permutations': True, 'allow_listener_query': False, 'provide_listener_feedback': True, 'sampling_strategy': 'component-focused-2shots'}, namespace=None, name='SymbolicBehaviourBenchmark-ReceptiveConstructiveTestEnv', version=0),\n",
              " 'stimulus_observation_space': Box(-1.0, 1.0, (3,), float32),\n",
              " 'use_communication_channel_permutations': True,\n",
              " 'vocab_size': 6}"
            ]
          },
          "metadata": {},
          "execution_count": 93
        }
      ]
    },
    {
      "cell_type": "code",
      "source": [
        "env.unwrapped.rg_config"
      ],
      "metadata": {
        "colab": {
          "base_uri": "https://localhost:8080/"
        },
        "id": "xOlszEW1yenq",
        "outputId": "5a2003e2-45d8-4268-cbd0-8b775e5a98a3"
      },
      "execution_count": 94,
      "outputs": [
        {
          "output_type": "execute_result",
          "data": {
            "text/plain": [
              "{'curriculum_distractors_window_size': 25,\n",
              " 'descriptive': True,\n",
              " 'descriptive_target_ratio': 0.5,\n",
              " 'distractor_sampling': 'uniform',\n",
              " 'graphtype': 'reinforce-like',\n",
              " 'gumbel_softmax_eps': 1e-06,\n",
              " 'max_sentence_length': 3,\n",
              " 'nbr_communication_rounds': 1,\n",
              " 'nbr_distractors': 0,\n",
              " 'nbr_experience_repetition': 1,\n",
              " 'nbr_latents': 3,\n",
              " 'nbr_stimulus': 1,\n",
              " 'object_centric': True,\n",
              " 'observability': 'full',\n",
              " 'tau0': 0.2,\n",
              " 'unsupervised_segmentation_factor': None,\n",
              " 'use_curriculum_nbr_distractors': False,\n",
              " 'vocab_size': 6}"
            ]
          },
          "metadata": {},
          "execution_count": 94
        }
      ]
    },
    {
      "cell_type": "code",
      "source": [
        "env.action_space"
      ],
      "metadata": {
        "colab": {
          "base_uri": "https://localhost:8080/"
        },
        "id": "UGSJC6Dpy_SF",
        "outputId": "967324db-ecb1-4840-a21f-5fb1ab9ac889"
      },
      "execution_count": 95,
      "outputs": [
        {
          "output_type": "execute_result",
          "data": {
            "text/plain": [
              "Dict(communication_channel:CommunicationChannel([7 7 7]), decision:Discrete(2))"
            ]
          },
          "metadata": {},
          "execution_count": 95
        }
      ]
    },
    {
      "cell_type": "code",
      "source": [
        "env.observation_space"
      ],
      "metadata": {
        "colab": {
          "base_uri": "https://localhost:8080/"
        },
        "id": "revdVYI7zBdv",
        "outputId": "09b57b72-2fc3-493d-dc72-c26714d80f5e"
      },
      "execution_count": 96,
      "outputs": [
        {
          "output_type": "execute_result",
          "data": {
            "text/plain": [
              "Dict(communication_channel:CommunicationChannel([7 7 7]), mode_id:MultiBinary(2), other_agent_id:Box(0, 255, (10,), uint8), previous_game_result:MultiBinary(2), previous_game_reward:Box(-10.0, 10.0, (1,), float32), role_id:MultiBinary(2), stimulus:Box(-1.0, 1.0, (3,), float32))"
            ]
          },
          "metadata": {},
          "execution_count": 96
        }
      ]
    },
    {
      "cell_type": "code",
      "source": [
        "samples = []\n",
        "dimensions = []\n",
        "steps = []\n",
        "values = []\n",
        "\n",
        "obs, info = env.reset()\n",
        "\n",
        "done = False\n",
        "iteration = 0\n",
        "while not done:\n",
        "    iteration += 1\n",
        "    speaker_action = env.action_space.sample()\n",
        "    listener_action = env.action_space.sample()\n",
        "    action = (speaker_action, listener_action)\n",
        "    obs, rewards, done, infos = env.step(action)\n",
        "    samples.append({'obs':obs, 'r':rewards, 'done':done, 'infos':infos})\n",
        "    if infos[0]['round_idx'] == -1:\n",
        "        for lidx, value in enumerate(obs[0][\"stimulus\"]):\n",
        "            dimensions.append(lidx)\n",
        "            values.append(value.item())\n",
        "            steps.append(iteration)\n"
      ],
      "metadata": {
        "colab": {
          "base_uri": "https://localhost:8080/"
        },
        "id": "aVuWEyAeyviB",
        "outputId": "5d87d148-868c-4bf6-ae4f-3685251bf5c4"
      },
      "execution_count": 97,
      "outputs": [
        {
          "output_type": "stream",
          "name": "stderr",
          "text": [
            "/usr/local/lib/python3.7/dist-packages/gym/utils/seeding.py:28: DeprecationWarning: \u001b[33mWARN: Function `rng.rand(*size)` is marked as deprecated and will be removed in the future. Please use `Generator.random(size)` instead.\u001b[0m\n",
            "  \"Function `rng.rand(*size)` is marked as deprecated \"\n"
          ]
        }
      ]
    },
    {
      "cell_type": "code",
      "source": [
        "print(len(steps))"
      ],
      "metadata": {
        "colab": {
          "base_uri": "https://localhost:8080/"
        },
        "id": "TOK7wkJw6B99",
        "outputId": "e5ab9fff-a47e-4719-f072-8e16aa795c06"
      },
      "execution_count": 98,
      "outputs": [
        {
          "output_type": "stream",
          "name": "stdout",
          "text": [
            "99\n"
          ]
        }
      ]
    },
    {
      "cell_type": "code",
      "source": [
        "print(values)"
      ],
      "metadata": {
        "colab": {
          "base_uri": "https://localhost:8080/"
        },
        "id": "tGvfh4c67ToR",
        "outputId": "83d10e0e-df23-47c4-e285-02552a98b5af"
      },
      "execution_count": 99,
      "outputs": [
        {
          "output_type": "stream",
          "name": "stdout",
          "text": [
            "[-0.5761359930038452, -0.6658947467803955, 0.5736830830574036, 0.009499067440629005, -0.710368812084198, -0.7344562411308289, -0.6285693049430847, 0.7146298289299011, -0.5238283276557922, 0.7315198183059692, -0.6640093922615051, 0.6911543011665344, 0.6541483402252197, 0.4955175518989563, -0.27727052569389343, 0.7494813203811646, 0.7210580110549927, -0.7344562411308289, 0.7315198183059692, -0.6640093922615051, -0.44731298089027405, 0.028133321553468704, -0.5864935517311096, -0.7374950647354126, 0.02328011766076088, 0.5900606513023376, -0.32472893595695496, -0.684291422367096, 0.5900606513023376, 0.25052136182785034, 0.07621955871582031, -0.42961108684539795, 0.5152338147163391, 0.17565520107746124, 0.8162623047828674, 0.6911543011665344, -0.6095768809318542, 0.5556772351264954, 0.31164678931236267, 0.028133321553468704, 0.7302768230438232, 0.6444610953330994, -0.005272923037409782, 0.6579393744468689, -0.524669885635376, -0.005272923037409782, 0.6579393744468689, -0.524669885635376, -0.8498695492744446, 0.7210580110549927, 0.4281305968761444, 0.7361130714416504, 0.5900606513023376, 0.25052136182785034, 0.1152588278055191, -0.714949369430542, 0.5350573658943176, -0.5761359930038452, 0.7696406841278076, 0.5736830830574036, 0.04320930317044258, 0.4955175518989563, -0.27727052569389343, 0.06277549266815186, -0.7542473673820496, 0.41431280970573425, -0.6545324325561523, 0.682502269744873, 0.6874344944953918, -0.005272923037409782, -0.5754818320274353, 0.6579840779304504, 0.009499067440629005, 0.7210580110549927, 0.4281305968761444, 0.06277549266815186, 0.6182302832603455, 0.41431280970573425, 0.12938497960567474, 0.7696406841278076, 0.5736830830574036, 0.006361798383295536, -0.4927455186843872, 0.6874344944953918, 0.02868475392460823, 0.6965715885162354, 0.576866626739502, 0.17565520107746124, -0.6640093922615051, 0.6911543011665344, -0.6766942739486694, 0.8429662585258484, 0.8724524974822998, 0.02328011766076088, 0.5900606513023376, -0.32472893595695496, 0.7961727976799011, 0.5655276775360107, 0.5152338147163391]\n"
          ]
        }
      ]
    },
    {
      "cell_type": "code",
      "source": [
        "df = pd.DataFrame(dict(\n",
        "    dimensions=dimensions, \n",
        "    stimulus=values,\n",
        "    steps=steps,\n",
        "    x=[0 for _ in range(len(steps))],\n",
        "))"
      ],
      "metadata": {
        "id": "jCqvcEef4OK5"
      },
      "execution_count": 100,
      "outputs": []
    },
    {
      "cell_type": "code",
      "source": [
        "df.describe()"
      ],
      "metadata": {
        "colab": {
          "base_uri": "https://localhost:8080/",
          "height": 300
        },
        "id": "A93lqbtk5ZUq",
        "outputId": "6e65410b-a5a1-482f-94cf-4508353c5d56"
      },
      "execution_count": 101,
      "outputs": [
        {
          "output_type": "execute_result",
          "data": {
            "text/plain": [
              "       dimensions   stimulus      steps     x\n",
              "count   99.000000  99.000000  99.000000  99.0\n",
              "mean     1.000000   0.144939  50.000000   0.0\n",
              "std      0.820652   0.545617  28.711087   0.0\n",
              "min      0.000000  -0.849870   2.000000   0.0\n",
              "25%      0.000000  -0.438462  26.000000   0.0\n",
              "50%      1.000000   0.250521  50.000000   0.0\n",
              "75%      2.000000   0.656044  74.000000   0.0\n",
              "max      2.000000   0.872452  98.000000   0.0"
            ],
            "text/html": [
              "\n",
              "  <div id=\"df-82922568-8244-4354-b279-b8717bd7d723\">\n",
              "    <div class=\"colab-df-container\">\n",
              "      <div>\n",
              "<style scoped>\n",
              "    .dataframe tbody tr th:only-of-type {\n",
              "        vertical-align: middle;\n",
              "    }\n",
              "\n",
              "    .dataframe tbody tr th {\n",
              "        vertical-align: top;\n",
              "    }\n",
              "\n",
              "    .dataframe thead th {\n",
              "        text-align: right;\n",
              "    }\n",
              "</style>\n",
              "<table border=\"1\" class=\"dataframe\">\n",
              "  <thead>\n",
              "    <tr style=\"text-align: right;\">\n",
              "      <th></th>\n",
              "      <th>dimensions</th>\n",
              "      <th>stimulus</th>\n",
              "      <th>steps</th>\n",
              "      <th>x</th>\n",
              "    </tr>\n",
              "  </thead>\n",
              "  <tbody>\n",
              "    <tr>\n",
              "      <th>count</th>\n",
              "      <td>99.000000</td>\n",
              "      <td>99.000000</td>\n",
              "      <td>99.000000</td>\n",
              "      <td>99.0</td>\n",
              "    </tr>\n",
              "    <tr>\n",
              "      <th>mean</th>\n",
              "      <td>1.000000</td>\n",
              "      <td>0.144939</td>\n",
              "      <td>50.000000</td>\n",
              "      <td>0.0</td>\n",
              "    </tr>\n",
              "    <tr>\n",
              "      <th>std</th>\n",
              "      <td>0.820652</td>\n",
              "      <td>0.545617</td>\n",
              "      <td>28.711087</td>\n",
              "      <td>0.0</td>\n",
              "    </tr>\n",
              "    <tr>\n",
              "      <th>min</th>\n",
              "      <td>0.000000</td>\n",
              "      <td>-0.849870</td>\n",
              "      <td>2.000000</td>\n",
              "      <td>0.0</td>\n",
              "    </tr>\n",
              "    <tr>\n",
              "      <th>25%</th>\n",
              "      <td>0.000000</td>\n",
              "      <td>-0.438462</td>\n",
              "      <td>26.000000</td>\n",
              "      <td>0.0</td>\n",
              "    </tr>\n",
              "    <tr>\n",
              "      <th>50%</th>\n",
              "      <td>1.000000</td>\n",
              "      <td>0.250521</td>\n",
              "      <td>50.000000</td>\n",
              "      <td>0.0</td>\n",
              "    </tr>\n",
              "    <tr>\n",
              "      <th>75%</th>\n",
              "      <td>2.000000</td>\n",
              "      <td>0.656044</td>\n",
              "      <td>74.000000</td>\n",
              "      <td>0.0</td>\n",
              "    </tr>\n",
              "    <tr>\n",
              "      <th>max</th>\n",
              "      <td>2.000000</td>\n",
              "      <td>0.872452</td>\n",
              "      <td>98.000000</td>\n",
              "      <td>0.0</td>\n",
              "    </tr>\n",
              "  </tbody>\n",
              "</table>\n",
              "</div>\n",
              "      <button class=\"colab-df-convert\" onclick=\"convertToInteractive('df-82922568-8244-4354-b279-b8717bd7d723')\"\n",
              "              title=\"Convert this dataframe to an interactive table.\"\n",
              "              style=\"display:none;\">\n",
              "        \n",
              "  <svg xmlns=\"http://www.w3.org/2000/svg\" height=\"24px\"viewBox=\"0 0 24 24\"\n",
              "       width=\"24px\">\n",
              "    <path d=\"M0 0h24v24H0V0z\" fill=\"none\"/>\n",
              "    <path d=\"M18.56 5.44l.94 2.06.94-2.06 2.06-.94-2.06-.94-.94-2.06-.94 2.06-2.06.94zm-11 1L8.5 8.5l.94-2.06 2.06-.94-2.06-.94L8.5 2.5l-.94 2.06-2.06.94zm10 10l.94 2.06.94-2.06 2.06-.94-2.06-.94-.94-2.06-.94 2.06-2.06.94z\"/><path d=\"M17.41 7.96l-1.37-1.37c-.4-.4-.92-.59-1.43-.59-.52 0-1.04.2-1.43.59L10.3 9.45l-7.72 7.72c-.78.78-.78 2.05 0 2.83L4 21.41c.39.39.9.59 1.41.59.51 0 1.02-.2 1.41-.59l7.78-7.78 2.81-2.81c.8-.78.8-2.07 0-2.86zM5.41 20L4 18.59l7.72-7.72 1.47 1.35L5.41 20z\"/>\n",
              "  </svg>\n",
              "      </button>\n",
              "      \n",
              "  <style>\n",
              "    .colab-df-container {\n",
              "      display:flex;\n",
              "      flex-wrap:wrap;\n",
              "      gap: 12px;\n",
              "    }\n",
              "\n",
              "    .colab-df-convert {\n",
              "      background-color: #E8F0FE;\n",
              "      border: none;\n",
              "      border-radius: 50%;\n",
              "      cursor: pointer;\n",
              "      display: none;\n",
              "      fill: #1967D2;\n",
              "      height: 32px;\n",
              "      padding: 0 0 0 0;\n",
              "      width: 32px;\n",
              "    }\n",
              "\n",
              "    .colab-df-convert:hover {\n",
              "      background-color: #E2EBFA;\n",
              "      box-shadow: 0px 1px 2px rgba(60, 64, 67, 0.3), 0px 1px 3px 1px rgba(60, 64, 67, 0.15);\n",
              "      fill: #174EA6;\n",
              "    }\n",
              "\n",
              "    [theme=dark] .colab-df-convert {\n",
              "      background-color: #3B4455;\n",
              "      fill: #D2E3FC;\n",
              "    }\n",
              "\n",
              "    [theme=dark] .colab-df-convert:hover {\n",
              "      background-color: #434B5C;\n",
              "      box-shadow: 0px 1px 3px 1px rgba(0, 0, 0, 0.15);\n",
              "      filter: drop-shadow(0px 1px 2px rgba(0, 0, 0, 0.3));\n",
              "      fill: #FFFFFF;\n",
              "    }\n",
              "  </style>\n",
              "\n",
              "      <script>\n",
              "        const buttonEl =\n",
              "          document.querySelector('#df-82922568-8244-4354-b279-b8717bd7d723 button.colab-df-convert');\n",
              "        buttonEl.style.display =\n",
              "          google.colab.kernel.accessAllowed ? 'block' : 'none';\n",
              "\n",
              "        async function convertToInteractive(key) {\n",
              "          const element = document.querySelector('#df-82922568-8244-4354-b279-b8717bd7d723');\n",
              "          const dataTable =\n",
              "            await google.colab.kernel.invokeFunction('convertToInteractive',\n",
              "                                                     [key], {});\n",
              "          if (!dataTable) return;\n",
              "\n",
              "          const docLinkHtml = 'Like what you see? Visit the ' +\n",
              "            '<a target=\"_blank\" href=https://colab.research.google.com/notebooks/data_table.ipynb>data table notebook</a>'\n",
              "            + ' to learn more about interactive tables.';\n",
              "          element.innerHTML = '';\n",
              "          dataTable['output_type'] = 'display_data';\n",
              "          await google.colab.output.renderOutput(dataTable, element);\n",
              "          const docLink = document.createElement('div');\n",
              "          docLink.innerHTML = docLinkHtml;\n",
              "          element.appendChild(docLink);\n",
              "        }\n",
              "      </script>\n",
              "    </div>\n",
              "  </div>\n",
              "  "
            ]
          },
          "metadata": {},
          "execution_count": 101
        }
      ]
    },
    {
      "cell_type": "markdown",
      "source": [
        "# Visualisation :"
      ],
      "metadata": {
        "id": "OF8XibPP7ot7"
      }
    },
    {
      "cell_type": "code",
      "source": [
        "import seaborn as sns\n",
        "import matplotlib.pyplot as plt "
      ],
      "metadata": {
        "id": "HSvOedeO7ruf"
      },
      "execution_count": 102,
      "outputs": []
    },
    {
      "cell_type": "code",
      "source": [
        "# Initialize a grid of plots with an Axes for each walk\n",
        "grid = sns.FacetGrid(\n",
        "    df, \n",
        "    col=\"steps\", \n",
        "    row=\"dimensions\", \n",
        "    palette=\"tab20c\",\n",
        "    #col_wrap=4, \n",
        "    height=1,\n",
        "    aspect=0.1,\n",
        "    sharey=True,\n",
        "    sharex=True,\n",
        "    despine=True,\n",
        ")\n",
        "\n",
        "# Draw a horizontal line to show the starting point\n",
        "grid.refline(y=-1, linestyle=\":\")\n",
        "grid.refline(y=0, linestyle=\":\")\n",
        "grid.refline(y=1, linestyle=\":\")\n",
        "\n",
        "# Draw a line plot to show the trajectory of each random walk\n",
        "grid.map(plt.scatter, \"x\", \"stimulus\", marker=\"o\")\n",
        "\n",
        "# Adjust the tick positions and labels\n",
        "grid.set(\n",
        "    #xticks=np.arange(5), \n",
        "    #yticks=[-3, 3],\n",
        "    xlim=(-0.1, 0.1), \n",
        "    ylim=(-1.0, 1.0),\n",
        ")\n",
        "\n",
        "# Adjust the arrangement of the plots\n",
        "grid.fig.tight_layout(w_pad=1)\n",
        "\n",
        "\"\"\"\n",
        "grid.plot_marginals(\n",
        "    sns.rugplot, \n",
        "    height=1, \n",
        "    color=\"g\", \n",
        "    alpha=.6,\n",
        ")\n",
        "\"\"\""
      ],
      "metadata": {
        "colab": {
          "base_uri": "https://localhost:8080/",
          "height": 329
        },
        "id": "2mhynnh28Z7G",
        "outputId": "5e69beb9-76e0-4298-e6cd-db1f33aeb5ef"
      },
      "execution_count": 103,
      "outputs": [
        {
          "output_type": "stream",
          "name": "stderr",
          "text": [
            "/usr/local/lib/python3.7/dist-packages/seaborn/axisgrid.py:88: UserWarning: Tight layout not applied. tight_layout cannot make axes width small enough to accommodate all axes decorations\n",
            "  self._figure.tight_layout(*args, **kwargs)\n",
            "/usr/local/lib/python3.7/dist-packages/ipykernel_launcher.py:32: UserWarning: Tight layout not applied. tight_layout cannot make axes width small enough to accommodate all axes decorations\n"
          ]
        },
        {
          "output_type": "execute_result",
          "data": {
            "text/plain": [
              "'\\ngrid.plot_marginals(\\n    sns.rugplot, \\n    height=1, \\n    color=\"g\", \\n    alpha=.6,\\n)\\n'"
            ],
            "application/vnd.google.colaboratory.intrinsic+json": {
              "type": "string"
            }
          },
          "metadata": {},
          "execution_count": 103
        },
        {
          "output_type": "display_data",
          "data": {
            "text/plain": [
              "<Figure size 237.6x216 with 99 Axes>"
            ],
            "image/png": "[encoded data removed]"
          },
          "metadata": {
            "needs_background": "light"
          }
        }
      ]
    },
    {
      "cell_type": "code",
      "source": [
        "g = sns.JointGrid(\n",
        "    data=df, \n",
        "    x=\"steps\", \n",
        "    y=\"stimulus\", \n",
        "    col=\"dimensions\",\n",
        "    #row=\"dimensions\",\n",
        "    #col=\"steps\",\n",
        "    space=0, \n",
        "    ratio=17,\n",
        ")\n",
        "g.plot_joint(\n",
        "    sns.scatterplot, \n",
        "    size=20,#mpg[\"horsepower\"], \n",
        "    #sizes=(30, 120),\n",
        "    color=\"g\", \n",
        "    alpha=.6, \n",
        "    legend=False,\n",
        ")\n",
        "\n",
        "g.plot_marginals(\n",
        "    sns.rugplot, \n",
        "    height=1, \n",
        "    color=\"g\", \n",
        "    alpha=.6,\n",
        ")"
      ],
      "metadata": {
        "colab": {
          "base_uri": "https://localhost:8080/",
          "height": 356
        },
        "id": "PpAKccww58MS",
        "outputId": "8a25d2f3-32c8-4e36-ed82-6a8b1942f3f3"
      },
      "execution_count": 75,
      "outputs": [
        {
          "output_type": "error",
          "ename": "TypeError",
          "evalue": "ignored",
          "traceback": [
            "\u001b[0;31m---------------------------------------------------------------------------\u001b[0m",
            "\u001b[0;31mTypeError\u001b[0m                                 Traceback (most recent call last)",
            "\u001b[0;32m<ipython-input-75-894719c09aab>\u001b[0m in \u001b[0;36m<module>\u001b[0;34m()\u001b[0m\n\u001b[1;32m      7\u001b[0m     \u001b[0;31m#col=\"steps\",\u001b[0m\u001b[0;34m\u001b[0m\u001b[0;34m\u001b[0m\u001b[0;34m\u001b[0m\u001b[0m\n\u001b[1;32m      8\u001b[0m     \u001b[0mspace\u001b[0m\u001b[0;34m=\u001b[0m\u001b[0;36m0\u001b[0m\u001b[0;34m,\u001b[0m\u001b[0;34m\u001b[0m\u001b[0;34m\u001b[0m\u001b[0m\n\u001b[0;32m----> 9\u001b[0;31m     \u001b[0mratio\u001b[0m\u001b[0;34m=\u001b[0m\u001b[0;36m17\u001b[0m\u001b[0;34m,\u001b[0m\u001b[0;34m\u001b[0m\u001b[0;34m\u001b[0m\u001b[0m\n\u001b[0m\u001b[1;32m     10\u001b[0m )\n\u001b[1;32m     11\u001b[0m g.plot_joint(\n",
            "\u001b[0;32m/usr/local/lib/python3.7/dist-packages/seaborn/_decorators.py\u001b[0m in \u001b[0;36minner_f\u001b[0;34m(*args, **kwargs)\u001b[0m\n\u001b[1;32m     44\u001b[0m             )\n\u001b[1;32m     45\u001b[0m         \u001b[0mkwargs\u001b[0m\u001b[0;34m.\u001b[0m\u001b[0mupdate\u001b[0m\u001b[0;34m(\u001b[0m\u001b[0;34m{\u001b[0m\u001b[0mk\u001b[0m\u001b[0;34m:\u001b[0m \u001b[0marg\u001b[0m \u001b[0;32mfor\u001b[0m \u001b[0mk\u001b[0m\u001b[0;34m,\u001b[0m \u001b[0marg\u001b[0m \u001b[0;32min\u001b[0m \u001b[0mzip\u001b[0m\u001b[0;34m(\u001b[0m\u001b[0msig\u001b[0m\u001b[0;34m.\u001b[0m\u001b[0mparameters\u001b[0m\u001b[0;34m,\u001b[0m \u001b[0margs\u001b[0m\u001b[0;34m)\u001b[0m\u001b[0;34m}\u001b[0m\u001b[0;34m)\u001b[0m\u001b[0;34m\u001b[0m\u001b[0;34m\u001b[0m\u001b[0m\n\u001b[0;32m---> 46\u001b[0;31m         \u001b[0;32mreturn\u001b[0m \u001b[0mf\u001b[0m\u001b[0;34m(\u001b[0m\u001b[0;34m**\u001b[0m\u001b[0mkwargs\u001b[0m\u001b[0;34m)\u001b[0m\u001b[0;34m\u001b[0m\u001b[0;34m\u001b[0m\u001b[0m\n\u001b[0m\u001b[1;32m     47\u001b[0m     \u001b[0;32mreturn\u001b[0m \u001b[0minner_f\u001b[0m\u001b[0;34m\u001b[0m\u001b[0;34m\u001b[0m\u001b[0m\n\u001b[1;32m     48\u001b[0m \u001b[0;34m\u001b[0m\u001b[0m\n",
            "\u001b[0;31mTypeError\u001b[0m: __init__() got an unexpected keyword argument 'col'"
          ]
        }
      ]
    },
    {
      "cell_type": "code",
      "source": [
        ""
      ],
      "metadata": {
        "id": "DYjFnrtJ77AO"
      },
      "execution_count": null,
      "outputs": []
    }
  ]
}